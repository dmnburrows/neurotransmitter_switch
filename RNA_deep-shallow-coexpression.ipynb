version https://git-lfs.github.com/spec/v1
oid sha256:6178be76be1859a77cc8ad9ede0137779b0e2a603dea2ef3abc2140eaf6107da
size 40521448
