version https://git-lfs.github.com/spec/v1
oid sha256:d69858c19d7ec239a9a3bad1a6de9502b86e023c64aea46d543293cdb1ff9b8f
size 40922217
