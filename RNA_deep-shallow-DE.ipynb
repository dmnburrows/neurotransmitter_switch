version https://git-lfs.github.com/spec/v1
oid sha256:46d168bfb8bf1435630744d13625a21e45eb8259126cdffb4cb46e141acacc19
size 17972462
