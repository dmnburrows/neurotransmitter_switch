version https://git-lfs.github.com/spec/v1
oid sha256:5aad5b6930eb75f19c603deab5bee3570345603f46c2308251fe2f1fa0ec9a85
size 10324432
