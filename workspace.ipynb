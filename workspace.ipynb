version https://git-lfs.github.com/spec/v1
oid sha256:853f8481110f3a897b8f7c430223cf6f667ceba27d83d5393db13ba4249f181b
size 349554
