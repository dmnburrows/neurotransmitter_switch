version https://git-lfs.github.com/spec/v1
oid sha256:3c5a003be9adb06f74473a57b16858eebd9714d824b6b31b55481603994f8c8e
size 892395
