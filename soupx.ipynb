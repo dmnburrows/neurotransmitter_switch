{
 "cells": [
  {
   "cell_type": "code",
   "execution_count": 2,
   "metadata": {
    "vscode": {
     "languageId": "r"
    }
   },
   "outputs": [
    {
     "name": "stderr",
     "output_type": "stream",
     "text": [
      "The legacy packages maptools, rgdal, and rgeos, underpinning the sp package,\n",
      "which was just loaded, will retire in October 2023.\n",
      "Please refer to R-spatial evolution reports for details, especially\n",
      "https://r-spatial.org/r/2023/05/15/evolution4.html.\n",
      "It may be desirable to make the sf package available;\n",
      "package maintainers should consider adding sf to Suggests:.\n",
      "The sp package is now running under evolution status 2\n",
      "     (status 2 uses the sf package in place of rgdal)\n",
      "\n"
     ]
    }
   ],
   "source": [
    "#install.packages('SoupX')\n",
    "library(SoupX)\n"
   ]
  },
  {
   "cell_type": "code",
   "execution_count": 5,
   "metadata": {
    "vscode": {
     "languageId": "r"
    }
   },
   "outputs": [
    {
     "name": "stderr",
     "output_type": "stream",
     "text": [
      "Loading raw count data\n",
      "\n"
     ]
    },
    {
     "ename": "ERROR",
     "evalue": "Error in full.data[[1]]: subscript out of bounds\n",
     "output_type": "error",
     "traceback": [
      "Error in full.data[[1]]: subscript out of bounds\nTraceback:\n",
      "1. load10X(\"/cndd3/dburrows/DATA/neurotransmitter_switch/processed/pilot/combined/cellranger/outs/filtered_feature_bc_matrix/\")",
      "2. do.call(Read10X, c(list(data.dir = tgt), readArgs))"
     ]
    }
   ],
   "source": [
    "sc = load10X('/cndd3/dburrows/DATA/neurotransmitter_switch/processed/pilot/combined/cellranger/outs/filtered_feature_bc_matrix/')\n",
    "# sc = autoEstCont(sc)\n",
    "# out = adjustCounts(sc)\n"
   ]
  }
 ],
 "metadata": {
  "kernelspec": {
   "display_name": "R",
   "language": "R",
   "name": "ir"
  },
  "language_info": {
   "codemirror_mode": "r",
   "file_extension": ".r",
   "mimetype": "text/x-r-source",
   "name": "R",
   "pygments_lexer": "r",
   "version": "4.2.2"
  }
 },
 "nbformat": 4,
 "nbformat_minor": 2
}
